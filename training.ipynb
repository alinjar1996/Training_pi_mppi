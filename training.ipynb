{
 "cells": [
  {
   "cell_type": "code",
   "execution_count": 2,
   "id": "0abe92bf",
   "metadata": {},
   "outputs": [
    {
     "name": "stdout",
     "output_type": "stream",
     "text": [
      "/home/alinjar/Training_pi_mppi\n"
     ]
    }
   ],
   "source": [
    "import os\n",
    "current_working_directory = os.getcwd()\n",
    "print(current_working_directory)\n",
    "\n",
    "import numpy as np \n",
    "\n",
    "import torch \n",
    "import torch.nn as nn \n",
    "import torch.optim as optim\n",
    "\n",
    "# import torch_optimizer as optim_custom\n",
    "from torch.utils.data import Dataset, DataLoader\n",
    "from bernstein_torch import bernstein_coeff_ordern_new\n",
    "import scipy.io as sio\n",
    "\n",
    "# from models.mlp_qp_vis_aware_2 import MLP, vis_aware_track_net, PointNet\n",
    "# import pol_matrix_comp\n",
    "from tqdm import trange,tqdm\n",
    "\n",
    "from mlp_obst_avoidance import MLP, mlp_projection_filter"
   ]
  },
  {
   "cell_type": "code",
   "execution_count": 3,
   "id": "109222da",
   "metadata": {},
   "outputs": [
    {
     "name": "stdout",
     "output_type": "stream",
     "text": [
      "torch.Size([100, 11])\n"
     ]
    }
   ],
   "source": [
    "# Generating P matrix\n",
    "t_fin = 20.0\n",
    "num = 100\n",
    "tot_time = torch.linspace(0, t_fin, num)\n",
    "tot_time_copy = tot_time.reshape(num, 1)\n",
    "P, Pdot, Pddot = bernstein_coeff_ordern_new(10, tot_time_copy[0], tot_time_copy[-1], tot_time_copy)\n",
    "print(P.size())\n",
    "\n",
    "P_diag = torch.block_diag(P, P)\n",
    "Pdot_diag = torch.block_diag(Pdot, Pdot)\n",
    "\n",
    "Pddot_diag = torch.block_diag(Pddot, Pddot)\n",
    "nvar = P.size(dim = 1)"
   ]
  }
 ],
 "metadata": {
  "kernelspec": {
   "display_name": "pi_mppi",
   "language": "python",
   "name": "python3"
  },
  "language_info": {
   "codemirror_mode": {
    "name": "ipython",
    "version": 3
   },
   "file_extension": ".py",
   "mimetype": "text/x-python",
   "name": "python",
   "nbconvert_exporter": "python",
   "pygments_lexer": "ipython3",
   "version": "3.12.3"
  }
 },
 "nbformat": 4,
 "nbformat_minor": 5
}
